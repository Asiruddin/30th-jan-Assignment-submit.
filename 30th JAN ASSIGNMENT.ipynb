{
 "cells": [
  {
   "cell_type": "code",
   "execution_count": 1,
   "id": "32889e41-94ab-4f09-b755-9daede586190",
   "metadata": {},
   "outputs": [
    {
     "name": "stdin",
     "output_type": "stream",
     "text": [
      "enter marks 40\n"
     ]
    },
    {
     "name": "stdout",
     "output_type": "stream",
     "text": [
      "you got grade\"D\"\n"
     ]
    }
   ],
   "source": [
    "marks = int(input('enter marks'))\n",
    "if marks > 90 :\n",
    "    print('you got grade\"A\"')\n",
    "elif marks > 80 and marks <= 90 :\n",
    "    print('you got grade\"B\"')\n",
    "elif marks >=60 and marks <=80 :\n",
    "    print('you got grade\"C\"')\n",
    "else :\n",
    "    print('you got grade\"D\"')"
   ]
  },
  {
   "cell_type": "code",
   "execution_count": 2,
   "id": "f70f6a9a-0c75-469f-bfb7-524f5ac9cf3c",
   "metadata": {},
   "outputs": [
    {
     "name": "stdin",
     "output_type": "stream",
     "text": [
      "enter marks 70\n"
     ]
    },
    {
     "name": "stdout",
     "output_type": "stream",
     "text": [
      "you got grade\"C\"\n"
     ]
    }
   ],
   "source": [
    "marks = int(input('enter marks'))\n",
    "if marks > 90 :\n",
    "    print('you got grade\"A\"')\n",
    "elif marks > 80 and marks <= 90 :\n",
    "    print('you got grade\"B\"')\n",
    "elif marks >=60 and marks <=80 :\n",
    "    print('you got grade\"C\"')\n",
    "else :\n",
    "    print('you got grade\"D\"')"
   ]
  },
  {
   "cell_type": "code",
   "execution_count": 3,
   "id": "4df27ba6-0916-4db8-9f85-4586c10c380c",
   "metadata": {},
   "outputs": [
    {
     "name": "stdin",
     "output_type": "stream",
     "text": [
      "enter marks 97\n"
     ]
    },
    {
     "name": "stdout",
     "output_type": "stream",
     "text": [
      "you got grade\"A\"\n"
     ]
    }
   ],
   "source": [
    "marks = int(input('enter marks'))\n",
    "if marks > 90 :\n",
    "    print('you got grade\"A\"')\n",
    "elif marks > 80 and marks <= 90 :\n",
    "    print('you got grade\"B\"')\n",
    "elif marks >=60 and marks <=80 :\n",
    "    print('you got grade\"C\"')\n",
    "else :\n",
    "    print('you got grade\"D\"')"
   ]
  },
  {
   "cell_type": "code",
   "execution_count": 4,
   "id": "fb01b32b-c259-410a-be10-0968c4d49457",
   "metadata": {},
   "outputs": [
    {
     "name": "stdin",
     "output_type": "stream",
     "text": [
      "enter marks 80\n"
     ]
    },
    {
     "name": "stdout",
     "output_type": "stream",
     "text": [
      "you got grade\"C\"\n"
     ]
    }
   ],
   "source": [
    "marks = int(input('enter marks'))\n",
    "if marks > 90 :\n",
    "    print('you got grade\"A\"')\n",
    "elif marks > 80 and marks <= 90 :\n",
    "    print('you got grade\"B\"')\n",
    "elif marks >=60 and marks <=80 :\n",
    "    print('you got grade\"C\"')\n",
    "else :\n",
    "    print('you got grade\"D\"')"
   ]
  },
  {
   "cell_type": "code",
   "execution_count": 5,
   "id": "cc42022a-a1f1-49e7-9eaa-3d77316c4372",
   "metadata": {},
   "outputs": [
    {
     "name": "stdin",
     "output_type": "stream",
     "text": [
      "enter marks 61\n"
     ]
    },
    {
     "name": "stdout",
     "output_type": "stream",
     "text": [
      "you got grade\"C\"\n"
     ]
    }
   ],
   "source": [
    "marks = int(input('enter marks'))\n",
    "if marks > 90 :\n",
    "    print('you got grade\"A\"')\n",
    "elif marks > 80 and marks <= 90 :\n",
    "    print('you got grade\"B\"')\n",
    "elif marks >=60 and marks <=80 :\n",
    "    print('you got grade\"C\"')\n",
    "else :\n",
    "    print('you got grade\"D\"')"
   ]
  },
  {
   "cell_type": "code",
   "execution_count": 6,
   "id": "a7249e49-60bf-48b0-b4b7-b6824540ca9e",
   "metadata": {},
   "outputs": [
    {
     "name": "stdin",
     "output_type": "stream",
     "text": [
      "enter your bike cost price 1000340\n"
     ]
    },
    {
     "name": "stdout",
     "output_type": "stream",
     "text": [
      "your tax will be 15%\n"
     ]
    }
   ],
   "source": [
    "cost = int(input(\"enter your bike cost price\"))\n",
    "if cost > 100000 :\n",
    "    print(\"your tax will be 15%\")\n",
    "elif cost > 50000 and cost <= 100000 :\n",
    "    print(\"tour tax will be 10%\")\n",
    "else :\n",
    "    print(\"your tax will be 5%\")"
   ]
  },
  {
   "cell_type": "code",
   "execution_count": 7,
   "id": "97498307-9445-4820-8498-06d3384a3db1",
   "metadata": {},
   "outputs": [
    {
     "name": "stdin",
     "output_type": "stream",
     "text": [
      "enter your bike cost price 600000\n"
     ]
    },
    {
     "name": "stdout",
     "output_type": "stream",
     "text": [
      "your tax will be 15%\n"
     ]
    }
   ],
   "source": [
    "cost = int(input(\"enter your bike cost price\"))\n",
    "if cost > 100000 :\n",
    "    print(\"your tax will be 15%\")\n",
    "elif cost > 50000 and cost <= 100000 :\n",
    "    print(\"tour tax will be 10%\")\n",
    "else :\n",
    "    print(\"your tax will be 5%\")"
   ]
  },
  {
   "cell_type": "code",
   "execution_count": 8,
   "id": "2a5d3445-3f23-451e-a9d1-3a7a2f7c7ccd",
   "metadata": {},
   "outputs": [
    {
     "name": "stdin",
     "output_type": "stream",
     "text": [
      "enter your bike cost price 60000\n"
     ]
    },
    {
     "name": "stdout",
     "output_type": "stream",
     "text": [
      "tour tax will be 10%\n"
     ]
    }
   ],
   "source": [
    "cost = int(input(\"enter your bike cost price\"))\n",
    "if cost > 100000 :\n",
    "    print(\"your tax will be 15%\")\n",
    "elif cost > 50000 and cost <= 100000 :\n",
    "    print(\"tour tax will be 10%\")\n",
    "else :\n",
    "    print(\"your tax will be 5%\")"
   ]
  },
  {
   "cell_type": "code",
   "execution_count": 9,
   "id": "9aedb093-56f0-43f2-9c1e-3e05aff85586",
   "metadata": {},
   "outputs": [
    {
     "name": "stdin",
     "output_type": "stream",
     "text": [
      "enter your bike cost price 40000\n"
     ]
    },
    {
     "name": "stdout",
     "output_type": "stream",
     "text": [
      "your tax will be 5%\n"
     ]
    }
   ],
   "source": [
    "cost = int(input(\"enter your bike cost price\"))\n",
    "if cost > 100000 :\n",
    "    print(\"your tax will be 15%\")\n",
    "elif cost > 50000 and cost <= 100000 :\n",
    "    print(\"tour tax will be 10%\")\n",
    "else :\n",
    "    print(\"your tax will be 5%\")"
   ]
  },
  {
   "cell_type": "code",
   "execution_count": 4,
   "id": "bed25629-a96a-4275-8091-950fa15ce153",
   "metadata": {},
   "outputs": [
    {
     "name": "stdin",
     "output_type": "stream",
     "text": [
      "plese tell the city DELHI\n"
     ]
    },
    {
     "name": "stdout",
     "output_type": "stream",
     "text": [
      "the monument is Red Ford\n"
     ]
    }
   ],
   "source": [
    "city = input(\"plese tell the city\")\n",
    "if city.upper()=='DELHI' :\n",
    "    print(\"the monument is Red Ford\")\n",
    "elif city.upper()=='AGRA' :\n",
    "    print(\"the monument is Taj Mahal\")\n",
    "elif city.upper()=='JAIPUR' :\n",
    "    print('the monument is Jal Mahal')\n",
    "else :\n",
    "    print(\"enter the valid city\")"
   ]
  },
  {
   "cell_type": "code",
   "execution_count": 5,
   "id": "d364fba7-c85e-4a2d-9191-e8a2bc2316d5",
   "metadata": {},
   "outputs": [
    {
     "name": "stdin",
     "output_type": "stream",
     "text": [
      "plese tell the city AGRA\n"
     ]
    },
    {
     "name": "stdout",
     "output_type": "stream",
     "text": [
      "the monument is Taj Mahal\n"
     ]
    }
   ],
   "source": [
    "city = input(\"plese tell the city\")\n",
    "if city.upper()=='DELHI' :\n",
    "    print(\"the monument is Red Ford\")\n",
    "elif city.upper()=='AGRA' :\n",
    "    print(\"the monument is Taj Mahal\")\n",
    "elif city.upper()=='JAIPUR' :\n",
    "    print('the monument is Jal Mahal')\n",
    "else :\n",
    "    print(\"enter the valid city\")"
   ]
  },
  {
   "cell_type": "code",
   "execution_count": 6,
   "id": "6497b99b-40d8-4aa1-b902-a96b7b5ec478",
   "metadata": {},
   "outputs": [
    {
     "name": "stdin",
     "output_type": "stream",
     "text": [
      "plese tell the city KOLKATA\n"
     ]
    },
    {
     "name": "stdout",
     "output_type": "stream",
     "text": [
      "enter the valid city\n"
     ]
    }
   ],
   "source": [
    "city = input(\"plese tell the city\")\n",
    "if city.upper()=='DELHI' :\n",
    "    print(\"the monument is Red Ford\")\n",
    "elif city.upper()=='AGRA' :\n",
    "    print(\"the monument is Taj Mahal\")\n",
    "elif city.upper()=='JAIPUR' :\n",
    "    print('the monument is Jal Mahal')\n",
    "else :\n",
    "    print(\"enter the valid city\")"
   ]
  },
  {
   "cell_type": "code",
   "execution_count": 23,
   "id": "de69003a-1321-4428-bee0-7bc1d098f761",
   "metadata": {},
   "outputs": [
    {
     "name": "stdin",
     "output_type": "stream",
     "text": [
      "Enter a number:  3000\n"
     ]
    },
    {
     "name": "stdout",
     "output_type": "stream",
     "text": [
      "The number of times 3000 can be divided by 3 while remaining >= 10 is 6\n"
     ]
    }
   ],
   "source": [
    "#4check how many times a given number can be divided by 3 before it is less than or equal to 10.\n",
    "def times_divisible_by_3(num):\n",
    "    count = 0\n",
    "    while num >= 10:\n",
    "        num = num / 3\n",
    "        count=count+1\n",
    "    return count\n",
    "\n",
    "num = int(input(\"Enter a number: \"))\n",
    "result = times_divisible_by_3(num)\n",
    "print(\"The number of times\", num, \"can be divided by 3 while remaining >= 10 is\", result)\n"
   ]
  },
  {
   "cell_type": "code",
   "execution_count": null,
   "id": "35087a5d-1f59-478c-88a8-c120e597e389",
   "metadata": {},
   "outputs": [],
   "source": [
    "#7 reverse a while loop to display numbers from 10 to 1"
   ]
  },
  {
   "cell_type": "code",
   "execution_count": 9,
   "id": "85c202f4-6d0e-4af9-89c3-ff09b76a23e1",
   "metadata": {},
   "outputs": [
    {
     "name": "stdout",
     "output_type": "stream",
     "text": [
      "10\n",
      "9\n",
      "8\n",
      "7\n",
      "6\n",
      "5\n",
      "4\n",
      "3\n",
      "2\n",
      "1\n"
     ]
    }
   ],
   "source": [
    "a=10\n",
    "while a >=1 :\n",
    "    print(a)\n",
    "    a=a-1"
   ]
  },
  {
   "cell_type": "code",
   "execution_count": 15,
   "id": "50741090-e1c0-4929-844e-51f6a91c5eef",
   "metadata": {},
   "outputs": [
    {
     "name": "stdout",
     "output_type": "stream",
     "text": [
      " * \n",
      " *  * \n",
      " *  *  * \n",
      " *  *  *  * \n",
      " *  *  *  *  * \n",
      " *  *  *  *  *  * \n",
      " *  *  *  *  *  *  * \n",
      " *  *  *  *  *  *  *  * \n",
      " *  *  *  *  *  *  *  *  * \n",
      " *  *  *  *  *  *  *  *  *  * \n"
     ]
    }
   ],
   "source": [
    "#nested while loop\n",
    "rows = 10\n",
    "i = 1\n",
    "while i <= rows:\n",
    "    j = 1\n",
    "    while j <= i:\n",
    "        print(\" * \",end=\"\")\n",
    "        j=j+1\n",
    "    print(\"\")\n",
    "    i=i+1"
   ]
  },
  {
   "cell_type": "code",
   "execution_count": 20,
   "id": "fa5492f2-e994-49a3-9422-57eabc7873f6",
   "metadata": {},
   "outputs": [
    {
     "name": "stdout",
     "output_type": "stream",
     "text": [
      "1  \n",
      "1 2  \n",
      "1 2 3  \n",
      "1 2 3 4  \n",
      "1 2 3 4 5  \n",
      "1 2 3 4 5 6  \n",
      "1 2 3 4 5 6 7  \n",
      "1 2 3 4 5 6 7 8  \n",
      "1 2 3 4 5 6 7 8 9  \n",
      "1 2 3 4 5 6 7 8 9 10  \n"
     ]
    }
   ],
   "source": [
    "#nested while loop\n",
    "i=1\n",
    "while i <= 10 :\n",
    "    j=1\n",
    "    while j<=i :\n",
    "        print(j,end=\" \")\n",
    "        j=j+1\n",
    "    print(\" \")\n",
    "    i=i+1"
   ]
  },
  {
   "cell_type": "code",
   "execution_count": null,
   "id": "5d92f6b5-107b-46c2-adc4-7078b2429f43",
   "metadata": {},
   "outputs": [],
   "source": []
  }
 ],
 "metadata": {
  "kernelspec": {
   "display_name": "Python 3 (ipykernel)",
   "language": "python",
   "name": "python3"
  },
  "language_info": {
   "codemirror_mode": {
    "name": "ipython",
    "version": 3
   },
   "file_extension": ".py",
   "mimetype": "text/x-python",
   "name": "python",
   "nbconvert_exporter": "python",
   "pygments_lexer": "ipython3",
   "version": "3.10.8"
  }
 },
 "nbformat": 4,
 "nbformat_minor": 5
}
